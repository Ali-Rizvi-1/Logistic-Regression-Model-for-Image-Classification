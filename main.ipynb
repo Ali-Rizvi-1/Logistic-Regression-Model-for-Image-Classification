{
 "cells": [
  {
   "cell_type": "markdown",
   "metadata": {},
   "source": [
    "Imports"
   ]
  },
  {
   "cell_type": "code",
   "execution_count": null,
   "metadata": {},
   "outputs": [],
   "source": [
    "import matplotlib.pyplot as plt\n",
    "import numpy as np\n",
    "import tensorflow as tf\n",
    "import tensorflow_datasets as tfds\n",
    "from sklearn.linear_model import LogisticRegression\n",
    "\n",
    "import cv2\n",
    "from google.colab.patches import cv2_imshow\n",
    "import time"
   ]
  },
  {
   "cell_type": "markdown",
   "metadata": {},
   "source": [
    "Loading the beans dataset into train and test"
   ]
  },
  {
   "cell_type": "code",
   "execution_count": null,
   "metadata": {},
   "outputs": [],
   "source": [
    "image_train, label_train = tfds.as_numpy(tfds.load(\n",
    "    'beans',\n",
    "    split='train',\n",
    "    batch_size=-1,\n",
    "    as_supervised=True,\n",
    "))\n",
    "\n",
    "print(\"Train data info:\",type(image_train), image_train.shape)\n",
    "\n",
    "image_test, label_test = tfds.as_numpy(tfds.load(\n",
    "    'beans',\n",
    "    split='test',\n",
    "    batch_size=-1,\n",
    "    as_supervised=True,\n",
    "))\n",
    "\n",
    "print(\"Test data info:\",type(image_test), image_test.shape)"
   ]
  },
  {
   "cell_type": "markdown",
   "metadata": {},
   "source": [
    "Preprocessing the train and test data"
   ]
  },
  {
   "cell_type": "code",
   "execution_count": null,
   "metadata": {},
   "outputs": [],
   "source": [
    "x_train = []\n",
    "x_train_normalized = []\n",
    "\n",
    "for i in image_train:\n",
    "  x_train.append(i.astype(\"float32\"))\n",
    "for i in x_train:\n",
    "  x_train_normalized.append(i/np.max(i))\n",
    "\n",
    "print(x_train[0].shape, x_train_normalized[0].shape)\n",
    "\n",
    "x_train_resized = []\n",
    "for i in x_train_normalized:\n",
    "  im = cv2.resize(i, dsize=(128, 128), interpolation=cv2.INTER_CUBIC)\n",
    "  x_train_resized.append(im)\n",
    "\n",
    "# grayscale pixel as features for training the logistic model \n",
    "# x_train_grey = []\n",
    "# for i in x_train_resized:\n",
    "#   grayscale = cv2.cvtColor(i, cv2.COLOR_BGR2GRAY)\n",
    "#   x_train_grey.append(grayscale) #np.dot(i,[0.2989,0.5870,0.1140])\n",
    "\n",
    "# print(x_train_resized[0].shape, x_train_grey[0].shape)\n",
    "\n",
    "x_test = []\n",
    "x_test_normalized = []\n",
    "\n",
    "for i in image_test:\n",
    "  x_test.append(i.astype(\"float32\"))\n",
    "for i in x_test:\n",
    "  x_test_normalized.append(i/np.max(i))\n",
    "\n",
    "x_test_resized = []\n",
    "for i in x_test_normalized:\n",
    "  im = cv2.resize(i, dsize=(128, 128), interpolation=cv2.INTER_CUBIC)\n",
    "  x_test_resized.append(im)\n",
    "\n",
    "# x_test_grey = []\n",
    "# for i in x_test_resized:\n",
    "#   grayscale = cv2.cvtColor(i, cv2.COLOR_BGR2GRAY)\n",
    "#   x_test_grey.append(grayscale) #np.dot(i,[0.2989,0.5870,0.1140])\n",
    "#   # x_test_grey.append(np.dot(i,[0.2989,0.5870,0.1140]))"
   ]
  }
 ],
 "metadata": {
  "interpreter": {
   "hash": "1c612ca8ef3987bc75488f6b259f55536f1aabbdf9be719e769e9fc57bdd3750"
  },
  "kernelspec": {
   "display_name": "Python 3.8.12 ('base')",
   "language": "python",
   "name": "python3"
  },
  "language_info": {
   "codemirror_mode": {
    "name": "ipython",
    "version": 3
   },
   "file_extension": ".py",
   "mimetype": "text/x-python",
   "name": "python",
   "nbconvert_exporter": "python",
   "pygments_lexer": "ipython3",
   "version": "3.7.9"
  },
  "orig_nbformat": 4
 },
 "nbformat": 4,
 "nbformat_minor": 2
}
