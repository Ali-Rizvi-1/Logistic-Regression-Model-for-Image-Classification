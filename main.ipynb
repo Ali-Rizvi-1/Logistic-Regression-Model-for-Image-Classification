{
 "cells": [
  {
   "cell_type": "markdown",
   "metadata": {},
   "source": [
    "Imports"
   ]
  },
  {
   "cell_type": "code",
   "execution_count": null,
   "metadata": {},
   "outputs": [],
   "source": [
    "import matplotlib.pyplot as plt\n",
    "import numpy as np\n",
    "import tensorflow as tf\n",
    "import tensorflow_datasets as tfds\n",
    "from sklearn.linear_model import LogisticRegression\n",
    "\n",
    "import cv2\n",
    "from google.colab.patches import cv2_imshow\n",
    "import time"
   ]
  }
 ],
 "metadata": {
  "interpreter": {
   "hash": "1c612ca8ef3987bc75488f6b259f55536f1aabbdf9be719e769e9fc57bdd3750"
  },
  "kernelspec": {
   "display_name": "Python 3.8.12 ('base')",
   "language": "python",
   "name": "python3"
  },
  "language_info": {
   "name": "python",
   "version": "3.8.12"
  },
  "orig_nbformat": 4
 },
 "nbformat": 4,
 "nbformat_minor": 2
}
